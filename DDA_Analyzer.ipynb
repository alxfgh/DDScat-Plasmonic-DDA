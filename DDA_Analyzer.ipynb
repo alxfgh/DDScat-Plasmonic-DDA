{
 "cells": [
  {
   "cell_type": "code",
   "execution_count": 3,
   "metadata": {},
   "outputs": [
    {
     "name": "stdout",
     "output_type": "stream",
     "text": [
      "Folders containing qtable files (excluding 'old result'):\n",
      "0-35C-25AuRioux-37S-50AuRioux-40S-100Au\n",
      "0-35C-26Au-37S-52Au-40S-100Au\n",
      "0-35C-26Au-37S-52Au-40S-85Au\n",
      "0-35C-26Au-37S-52Au-40S-92Au\n",
      "0-35C-26Au-37S-52AuRioux-40S-100Au\n",
      "0-35C-26Au-40S-100Au\n",
      "0-35C-26Au-40S-100Au (copy)\n",
      "0-35C-26Au-40S-15Au\n",
      "0-35C-26Au-40S-76Au\n",
      "0-35C-26Au-40S-85Au\n",
      "0-35C-26Au-40S-92Au\n",
      "0-36C-26Au-40S-100Au\n",
      "0-36C-26Au-40S-15Au\n",
      "0-37C-26Au-40S-100Au\n",
      "0-37C-26Au-40S-15Au\n",
      "0-38C-26Au-40S-100Au\n",
      "0-38C-26Au-40S-15Au\n",
      "0-39C-26Au-40S-100Au\n",
      "0-39C-26Au-40S-15Au\n",
      "0-Final3-5-26Core34ShellPena\n",
      "0-Final3-5-CoreShell\n",
      "0-Final3-5-CoreShellPenaMoreDipoles\n"
     ]
    }
   ],
   "source": [
    "import os\n",
    "\n",
    "# Define the directory containing the \"DDA results\" folder\n",
    "script_dir = os.getcwd()  # Use the current working directory\n",
    "dda_results_folder = os.path.join(script_dir, \"DDA results\")\n",
    "\n",
    "# List to store folder names containing qtable files (excluding \"old result\" folders)\n",
    "folders_with_qtable = []\n",
    "\n",
    "# Walk through the \"DDA results\" folder\n",
    "for root, dirs, files in os.walk(dda_results_folder):\n",
    "    if \"old result\" not in root:  # Exclude \"old result\" folders\n",
    "        for file in files:\n",
    "            if file.endswith(\"qtable\"):\n",
    "                folder_name = os.path.basename(root)  # Get the folder name\n",
    "                if folder_name not in folders_with_qtable:\n",
    "                    folders_with_qtable.append(folder_name)\n",
    "\n",
    "# Print the list of folder names\n",
    "print(\"Folders containing qtable files (excluding 'old result'):\")\n",
    "for folder in folders_with_qtable:\n",
    "    print(folder)\n"
   ]
  },
  {
   "cell_type": "code",
   "execution_count": 3,
   "metadata": {},
   "outputs": [
    {
     "name": "stdout",
     "output_type": "stream",
     "text": [
      "All .qtable files have been moved to the 'c:\\Users\\bluml\\OneDrive\\Desktop\\Alex\\Programming\\DDScat-Plasmonic-DDA-1\\qtables' folder and renamed.\n"
     ]
    }
   ],
   "source": [
    "import os\n",
    "import shutil\n",
    "\n",
    "# Define the directory containing the \"DDA results\" folder\n",
    "script_dir = os.getcwd()  # Use the current working directory\n",
    "dda_results_folder = os.path.join(script_dir, \"DDA results\")\n",
    "\n",
    "# Define the directory for the qtables folder\n",
    "qtables_folder = os.path.join(script_dir, \"qtables\")\n",
    "\n",
    "# Create the qtables folder if it doesn't exist\n",
    "os.makedirs(qtables_folder, exist_ok=True)\n",
    "\n",
    "# Walk through the \"DDA results\" folder\n",
    "for root, dirs, files in os.walk(dda_results_folder):\n",
    "    if \"old result\" not in root:  # Exclude \"old result\" folders\n",
    "        for file in files:\n",
    "            if file.endswith(\"qtable\"):\n",
    "                folder_name = os.path.basename(root)  # Get the folder name\n",
    "                new_file_name = f\"{folder_name}.qtable\"  # Rename file to match folder name\n",
    "                src_file_path = os.path.join(root, file)  # Source file path\n",
    "                dest_file_path = os.path.join(qtables_folder, new_file_name)  # Destination path\n",
    "\n",
    "                # Move and rename the file\n",
    "                shutil.copy(src_file_path, dest_file_path)\n",
    "\n",
    "print(f\"All .qtable files have been moved to the '{qtables_folder}' folder and renamed.\")"
   ]
  },
  {
   "cell_type": "code",
   "execution_count": 4,
   "metadata": {},
   "outputs": [
    {
     "ename": "ValueError",
     "evalue": "could not convert string to float: 'wave'",
     "output_type": "error",
     "traceback": [
      "\u001b[1;31m---------------------------------------------------------------------------\u001b[0m",
      "\u001b[1;31mValueError\u001b[0m                                Traceback (most recent call last)",
      "Cell \u001b[1;32mIn[4], line 32\u001b[0m\n\u001b[0;32m     30\u001b[0m \u001b[38;5;28;01mif\u001b[39;00m \u001b[38;5;28mlen\u001b[39m(parts) \u001b[38;5;241m<\u001b[39m \u001b[38;5;241m8\u001b[39m:  \u001b[38;5;66;03m# Ensure the line has enough columns\u001b[39;00m\n\u001b[0;32m     31\u001b[0m     \u001b[38;5;28;01mcontinue\u001b[39;00m\n\u001b[1;32m---> 32\u001b[0m wave \u001b[38;5;241m=\u001b[39m \u001b[38;5;28;43mfloat\u001b[39;49m\u001b[43m(\u001b[49m\u001b[43mparts\u001b[49m\u001b[43m[\u001b[49m\u001b[38;5;241;43m1\u001b[39;49m\u001b[43m]\u001b[49m\u001b[43m)\u001b[49m \u001b[38;5;241m*\u001b[39m \u001b[38;5;241m1000\u001b[39m  \u001b[38;5;66;03m# Convert to nm\u001b[39;00m\n\u001b[0;32m     33\u001b[0m q_abs \u001b[38;5;241m=\u001b[39m \u001b[38;5;28mfloat\u001b[39m(parts[\u001b[38;5;241m3\u001b[39m])\n\u001b[0;32m     34\u001b[0m \u001b[38;5;28;01mif\u001b[39;00m \u001b[38;5;241m300\u001b[39m \u001b[38;5;241m<\u001b[39m\u001b[38;5;241m=\u001b[39m wave \u001b[38;5;241m<\u001b[39m\u001b[38;5;241m=\u001b[39m \u001b[38;5;241m400\u001b[39m:\n",
      "\u001b[1;31mValueError\u001b[0m: could not convert string to float: 'wave'"
     ]
    }
   ],
   "source": [
    "import matplotlib.pyplot as plt\n",
    "import numpy as np\n",
    "\n",
    "# Define file paths\n",
    "file_paths = [\n",
    "    \"DDA results/0-35C-25AuRioux-37S-50AuRioux-40S-100Au/qtable\",\n",
    "    \"DDA results/0-35C-26Au-37S-52AuRioux-40S-100Au/qtable\",\n",
    "    \"DDA results/0-35C-26Au-37S-52Au-40S-100Au/qtable\"\n",
    "]\n",
    "\n",
    "# Labels for the files\n",
    "labels = [\n",
    "    \"0-35C-25AuRioux-37S-50AuRioux-40S-100Au\",\n",
    "    \"0-35C-26Au-37S-52AuRioux-40S-100Au\",\n",
    "    \"0-35C-26Au-37S-52Au-40S-100Au\"\n",
    "]\n",
    "\n",
    "# Initialize data storage\n",
    "data = []\n",
    "\n",
    "# Read data from each file\n",
    "for file_path in file_paths:\n",
    "    absorbance = []\n",
    "    wavelength = []\n",
    "    with open(file_path, 'r') as f:\n",
    "        lines = f.readlines()\n",
    "        # Start from line 15 (index 14) and process the data\n",
    "        for line in lines[14:]:\n",
    "            parts = line.split()\n",
    "            if len(parts) < 8:  # Ensure the line has enough columns\n",
    "                continue\n",
    "            wave = float(parts[1]) * 1000  # Convert to nm\n",
    "            q_abs = float(parts[3])\n",
    "            if 300 <= wave <= 400:\n",
    "                wavelength.append(wave)\n",
    "                absorbance.append(q_abs)\n",
    "    data.append((wavelength, absorbance))\n",
    "\n",
    "# Plot data\n",
    "plt.figure(figsize=(12, 9))\n",
    "for i, (wavelength, absorbance) in enumerate(data):\n",
    "    plt.plot(wavelength, absorbance, label=labels[i])\n",
    "\n",
    "# Customize plot\n",
    "plt.title(\"Absorbance Comparison\")\n",
    "plt.xlabel(\"Wavelength (nm)\")\n",
    "plt.ylabel(\"Absorbance (Q_abs)\")\n",
    "plt.legend()\n",
    "plt.grid(True)\n",
    "plt.tight_layout()\n",
    "\n",
    "# Show plot\n",
    "plt.show()\n"
   ]
  }
 ],
 "metadata": {
  "kernelspec": {
   "display_name": "base",
   "language": "python",
   "name": "python3"
  },
  "language_info": {
   "codemirror_mode": {
    "name": "ipython",
    "version": 3
   },
   "file_extension": ".py",
   "mimetype": "text/x-python",
   "name": "python",
   "nbconvert_exporter": "python",
   "pygments_lexer": "ipython3",
   "version": "3.10.9"
  }
 },
 "nbformat": 4,
 "nbformat_minor": 2
}
