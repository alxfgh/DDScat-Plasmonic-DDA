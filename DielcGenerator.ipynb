{
 "cells": [
  {
   "cell_type": "code",
   "execution_count": 2,
   "metadata": {},
   "outputs": [
    {
     "name": "stdout",
     "output_type": "stream",
     "text": [
      "Files generated: 25Au75Ag, 50Au50Ag, 75Au25Ag\n"
     ]
    }
   ],
   "source": [
    "import pandas as pd\n",
    "\n",
    "# Paths to the input files\n",
    "file1_path = \"diel/Ag_evap\"  # Replace with actual file path\n",
    "file2_path = \"diel/Au_evap\"  # Replace with actual file path\n",
    "\n",
    "# Load data from both files\n",
    "col_names = [\"wave(um)\", \"Re(n)\", \"Im(n)\", \"eps1\", \"eps2\"]\n",
    "file1_data = pd.read_csv(file1_path, skiprows=3, delim_whitespace=True, names=col_names)\n",
    "file2_data = pd.read_csv(file2_path, skiprows=3, delim_whitespace=True, names=col_names)\n",
    "\n",
    "# Align data based on \"wave(um)\" with a small tolerance\n",
    "tolerance = 1e-4  # Small tolerance for matching\n",
    "aligned_data = pd.merge_asof(\n",
    "    file1_data.sort_values(\"wave(um)\"),\n",
    "    file2_data.sort_values(\"wave(um)\"),\n",
    "    on=\"wave(um)\",\n",
    "    direction=\"nearest\",\n",
    "    suffixes=(\"_Ag\", \"_Au\"),\n",
    "    tolerance=tolerance\n",
    ").dropna()  # Drop rows where matching failed\n",
    "\n",
    "# Function to create a combined dielectric file\n",
    "def create_combined_dielectric_file(df, ratio_Ag, ratio_Au, filename):\n",
    "    combined = pd.DataFrame({\n",
    "        \"wave(um)\": df[\"wave(um)\"],\n",
    "        \"Re(n)\": ratio_Ag * df[\"Re(n)_Ag\"] + ratio_Au * df[\"Re(n)_Au\"],\n",
    "        \"Im(n)\": ratio_Ag * df[\"Im(n)_Ag\"] + ratio_Au * df[\"Im(n)_Au\"],\n",
    "        \"eps1\": ratio_Ag * df[\"eps1_Ag\"] + ratio_Au * df[\"eps1_Au\"],\n",
    "        \"eps2\": ratio_Ag * df[\"eps2_Ag\"] + ratio_Au * df[\"eps2_Au\"],\n",
    "    })\n",
    "    \n",
    "    # Write the file in the required format\n",
    "    with open(filename, 'w') as f:\n",
    "        f.write(f\"Combined dielectric data ({int(ratio_Au*100)}Au/{int(ratio_Ag*100)}Ag), Alexander Al-Feghali al-fegha.li\\n\")\n",
    "        f.write(\"1 2 3 0 0 = columns for wave, Re(n), Im(n), eps1, eps2\\n\")\n",
    "        f.write(\"wave(um) Re(n)  Im(n)    eps1   eps2\\n\")\n",
    "        combined.to_csv(f, sep='\\t', index=False, header=False, float_format=\"%.6f\")\n",
    "\n",
    "# File outputs\n",
    "create_combined_dielectric_file(aligned_data, 0.75, 0.25, \"25Au75Ag_dielec\")\n",
    "create_combined_dielectric_file(aligned_data, 0.50, 0.50, \"50Au50Ag_dielec\")\n",
    "create_combined_dielectric_file(aligned_data, 0.25, 0.75, \"75Au25Ag_dielec\")\n",
    "\n",
    "print(\"Files generated: 25Au75Ag, 50Au50Ag, 75Au25Ag\")\n"
   ]
  },
  {
   "cell_type": "code",
   "execution_count": null,
   "metadata": {},
   "outputs": [
    {
     "ename": "",
     "evalue": "",
     "output_type": "error",
     "traceback": [
      "\u001b[1;31mThe Kernel crashed while executing code in the current cell or a previous cell. \n",
      "\u001b[1;31mPlease review the code in the cell(s) to identify a possible cause of the failure. \n",
      "\u001b[1;31mClick <a href='https://aka.ms/vscodeJupyterKernelCrash'>here</a> for more info. \n",
      "\u001b[1;31mView Jupyter <a href='command:jupyter.viewOutput'>log</a> for further details."
     ]
    }
   ],
   "source": [
    "create_combined_dielectric_file(aligned_data, 1, 0, \"Ag_test\")"
   ]
  }
 ],
 "metadata": {
  "kernelspec": {
   "display_name": "base",
   "language": "python",
   "name": "python3"
  },
  "language_info": {
   "codemirror_mode": {
    "name": "ipython",
    "version": 3
   },
   "file_extension": ".py",
   "mimetype": "text/x-python",
   "name": "python",
   "nbconvert_exporter": "python",
   "pygments_lexer": "ipython3",
   "version": "3.10.9"
  }
 },
 "nbformat": 4,
 "nbformat_minor": 2
}
